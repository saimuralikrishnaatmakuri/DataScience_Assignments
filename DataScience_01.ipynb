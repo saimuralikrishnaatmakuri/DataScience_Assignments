{
  "nbformat": 4,
  "nbformat_minor": 0,
  "metadata": {
    "colab": {
      "name": "DataScience_01.ipynb",
      "provenance": [],
      "collapsed_sections": []
    },
    "kernelspec": {
      "name": "python3",
      "display_name": "Python 3"
    },
    "language_info": {
      "name": "python"
    }
  },
  "cells": [
    {
      "cell_type": "code",
      "metadata": {
        "id": "-BK_nu8arRUQ"
      },
      "source": [
        "num1 = int(input(\"Enter your 1st number = \"))\n",
        "num2 = int(input(\"Enter your 2nd number = \"))\n",
        "print(\"Sum of 2 Numbers = {sum}\".format(sum= num1+num2))\n",
        "print(\"Subtraction67 of 2 Numbers = {Subtraction}\".format(Subtraction= num1-num2))\n",
        "print(\"Multiplication of 2 Numbers = {multiplation}\".format(multiplation= num1*num2))\n",
        "print(\"Division of 2 Numbers = {division}\".format(division= num1/num2))\n",
        "print(\"reminder[division] of 2 Numbers = {reminder}\".format(reminder= num1//num2))\n",
        "print(\"Power of 2 numbers = {power}\".format(power = num1**num2))"
      ],
      "execution_count": null,
      "outputs": []
    },
    {
      "cell_type": "code",
      "metadata": {
        "id": "tq1pPLIasLc1",
        "colab": {
          "base_uri": "https://localhost:8080/"
        },
        "outputId": "203bae9d-e214-4518-c9fb-7c23cfd5205c"
      },
      "source": [
        "principal = int(input(\"Enter the principal amount : \"))\n",
        "rate = int(input(\"Enter the rate of the intrest : \"))\n",
        "time = int(input(\"Enter the duration [in years] to the amount intrest to be calcualted : \"))\n",
        "simple_intrest = (principal*rate*time)/100\n",
        "print(\"The simple intrest to the amount {pri} to the duration {t} years is {si}\".format(pri=principal,t=time,si=simple_intrest))"
      ],
      "execution_count": null,
      "outputs": [
        {
          "output_type": "stream",
          "name": "stdout",
          "text": [
            "Enter the principal amount : 5000\n",
            "Enter the rate of the intrest : 5\n",
            "Enter the duration [in years] to the amount intrest to be calcualted : 1\n",
            "The simple intrest to the amount 5000 to the duration 1 years is 250.0\n"
          ]
        }
      ]
    }
  ]
}